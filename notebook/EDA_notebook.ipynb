{
 "cells": [
  {
   "cell_type": "markdown",
   "id": "a8d8ec62-7fe4-4230-9fd5-4d9950210c51",
   "metadata": {},
   "source": [
    "# 1 - Introduction\n",
    "\n",
    "Wine quality assessment is a crucial aspect of the wine industry, influencing production, pricing, and consumer satisfaction. This dataset, sourced from the [UCI Machine Learning Repository](https://archive.ics.uci.edu/dataset/186/wine+quality), contains physicochemical properties of red and white wine samples from the **Vinho Verde** region of Portugal. Each sample is labeled with a **quality score** ranging from 0 to 10, based on sensory evaluations from wine experts.\n",
    "\n",
    "The objective of this study is to develop a machine learning model capable of predicting **wine quality** based on its **chemical composition**. By analyzing factors such as **acidity, alcohol content, pH, and residual sugar**, we aim to uncover patterns that distinguish high-quality wines from lower-quality ones.\n",
    "\n",
    "This project will involve **data preprocessing, exploratory data analysis (EDA), feature engineering, and model selection** to build a predictive system that can assist winemakers in optimizing production processes and maintaining high-quality standards."
   ]
  },
  {
   "cell_type": "markdown",
   "id": "77d1d8b1-5ab1-4b4a-8597-e82841830106",
   "metadata": {},
   "source": [
    "## 1.1 - Explanation of Variables  \n",
    "\n",
    "The dataset consists of **physicochemical properties** of wine samples and a **quality score** assigned by wine experts. Below is a description of each variable:  \n",
    "\n",
    "### **Features (Independent Variables)**  \n",
    "These continuous variables represent the chemical composition of the wine:  \n",
    "\n",
    "- **fixed_acidity**: The amount of non-volatile acids present in the wine, primarily **tartaric acid**. It contributes to the wine’s tartness.  \n",
    "- **volatile_acidity**: The concentration of volatile acids, mainly **acetic acid**, which can give wine an unpleasant vinegar taste if too high.  \n",
    "- **citric_acid**: A naturally occurring acid in grapes that can add freshness and enhance the wine’s **flavor profile**.  \n",
    "- **residual_sugar**: The remaining **sugar** after fermentation, measured in grams per liter. Affects the wine’s **sweetness**.  \n",
    "- **chlorides**: The amount of **salt** in the wine, which can influence taste and preservation.  \n",
    "- **free_sulfur_dioxide**: The **unbound SO₂** that acts as an antimicrobial and antioxidant in wine.  \n",
    "- **total_sulfur_dioxide**: The total amount of **free and bound SO₂**, used as a preservative to prevent oxidation and bacterial growth.  \n",
    "- **density**: The **mass per unit volume** of the wine, influenced by **alcohol, sugar, and dissolved substances**.  \n",
    "- **pH**: Measures the **acidity** of the wine on a scale from **0 to 14**, where lower values indicate higher acidity.  \n",
    "- **sulphates**: A form of **sulfur** that contributes to **wine stability** and acts as an antimicrobial agent.  \n",
    "- **alcohol**: The **ethanol content** of the wine, which significantly impacts its **body, taste, and perception of quality**.  \n",
    "\n",
    "### **Target Variable (Dependent Variable)**  \n",
    "- **quality**: The **expert-assigned score** for each wine, ranging from **0 to 10**. A higher score indicates better wine quality.  \n",
    "\n",
    "### **Other Variable**  \n",
    "- **color**: A **categorical variable** indicating whether the wine is **red or white**.  \n",
    "\n",
    "Each of these variables plays a role in defining wine characteristics, and understanding their interactions can help build a robust predictive model for wine quality.\n"
   ]
  },
  {
   "cell_type": "code",
   "execution_count": 1,
   "id": "66eab995-7bde-4eca-8dab-4f5a896fe068",
   "metadata": {},
   "outputs": [],
   "source": [
    "from ucimlrepo import fetch_ucirepo \n",
    "import pandas as pd\n",
    "import numpy as np\n",
    "import seaborn as sns\n",
    "\n",
    "sns.set_style('darkgrid')  # Set the plot style\n",
    "palette = sns.color_palette(palette=\"pastel\")\n",
    "sns.set_palette(\"pastel\")\n",
    "\n",
    "import matplotlib.pyplot as plt\n",
    "\n",
    "from scipy.stats import ttest_ind, kruskal, rankdata, norm\n",
    "import scipy.stats as stats\n",
    "from scipy.spatial.distance import pdist, squareform\n",
    "\n",
    "#Model\n",
    "from sklearn.model_selection import train_test_split"
   ]
  },
  {
   "cell_type": "markdown",
   "id": "a9d27f7c-1674-4fe9-9ae3-d2046c8a623d",
   "metadata": {},
   "source": [
    "# 2.1 Preparing the data"
   ]
  },
  {
   "cell_type": "code",
   "execution_count": 2,
   "id": "33ceb3a5-aaf2-4493-9010-79989c498eb9",
   "metadata": {},
   "outputs": [
    {
     "ename": "ConnectionError",
     "evalue": "Error connecting to server",
     "output_type": "error",
     "traceback": [
      "\u001b[1;31m---------------------------------------------------------------------------\u001b[0m",
      "\u001b[1;31mConnectionRefusedError\u001b[0m                    Traceback (most recent call last)",
      "File \u001b[1;32m~\\anaconda3\\lib\\urllib\\request.py:1346\u001b[0m, in \u001b[0;36mAbstractHTTPHandler.do_open\u001b[1;34m(self, http_class, req, **http_conn_args)\u001b[0m\n\u001b[0;32m   1345\u001b[0m \u001b[38;5;28;01mtry\u001b[39;00m:\n\u001b[1;32m-> 1346\u001b[0m     \u001b[43mh\u001b[49m\u001b[38;5;241;43m.\u001b[39;49m\u001b[43mrequest\u001b[49m\u001b[43m(\u001b[49m\u001b[43mreq\u001b[49m\u001b[38;5;241;43m.\u001b[39;49m\u001b[43mget_method\u001b[49m\u001b[43m(\u001b[49m\u001b[43m)\u001b[49m\u001b[43m,\u001b[49m\u001b[43m \u001b[49m\u001b[43mreq\u001b[49m\u001b[38;5;241;43m.\u001b[39;49m\u001b[43mselector\u001b[49m\u001b[43m,\u001b[49m\u001b[43m \u001b[49m\u001b[43mreq\u001b[49m\u001b[38;5;241;43m.\u001b[39;49m\u001b[43mdata\u001b[49m\u001b[43m,\u001b[49m\u001b[43m \u001b[49m\u001b[43mheaders\u001b[49m\u001b[43m,\u001b[49m\n\u001b[0;32m   1347\u001b[0m \u001b[43m              \u001b[49m\u001b[43mencode_chunked\u001b[49m\u001b[38;5;241;43m=\u001b[39;49m\u001b[43mreq\u001b[49m\u001b[38;5;241;43m.\u001b[39;49m\u001b[43mhas_header\u001b[49m\u001b[43m(\u001b[49m\u001b[38;5;124;43m'\u001b[39;49m\u001b[38;5;124;43mTransfer-encoding\u001b[39;49m\u001b[38;5;124;43m'\u001b[39;49m\u001b[43m)\u001b[49m\u001b[43m)\u001b[49m\n\u001b[0;32m   1348\u001b[0m \u001b[38;5;28;01mexcept\u001b[39;00m \u001b[38;5;167;01mOSError\u001b[39;00m \u001b[38;5;28;01mas\u001b[39;00m err: \u001b[38;5;66;03m# timeout error\u001b[39;00m\n",
      "File \u001b[1;32m~\\anaconda3\\lib\\http\\client.py:1285\u001b[0m, in \u001b[0;36mHTTPConnection.request\u001b[1;34m(self, method, url, body, headers, encode_chunked)\u001b[0m\n\u001b[0;32m   1284\u001b[0m \u001b[38;5;250m\u001b[39m\u001b[38;5;124;03m\"\"\"Send a complete request to the server.\"\"\"\u001b[39;00m\n\u001b[1;32m-> 1285\u001b[0m \u001b[38;5;28;43mself\u001b[39;49m\u001b[38;5;241;43m.\u001b[39;49m\u001b[43m_send_request\u001b[49m\u001b[43m(\u001b[49m\u001b[43mmethod\u001b[49m\u001b[43m,\u001b[49m\u001b[43m \u001b[49m\u001b[43murl\u001b[49m\u001b[43m,\u001b[49m\u001b[43m \u001b[49m\u001b[43mbody\u001b[49m\u001b[43m,\u001b[49m\u001b[43m \u001b[49m\u001b[43mheaders\u001b[49m\u001b[43m,\u001b[49m\u001b[43m \u001b[49m\u001b[43mencode_chunked\u001b[49m\u001b[43m)\u001b[49m\n",
      "File \u001b[1;32m~\\anaconda3\\lib\\http\\client.py:1331\u001b[0m, in \u001b[0;36mHTTPConnection._send_request\u001b[1;34m(self, method, url, body, headers, encode_chunked)\u001b[0m\n\u001b[0;32m   1330\u001b[0m     body \u001b[38;5;241m=\u001b[39m _encode(body, \u001b[38;5;124m'\u001b[39m\u001b[38;5;124mbody\u001b[39m\u001b[38;5;124m'\u001b[39m)\n\u001b[1;32m-> 1331\u001b[0m \u001b[38;5;28;43mself\u001b[39;49m\u001b[38;5;241;43m.\u001b[39;49m\u001b[43mendheaders\u001b[49m\u001b[43m(\u001b[49m\u001b[43mbody\u001b[49m\u001b[43m,\u001b[49m\u001b[43m \u001b[49m\u001b[43mencode_chunked\u001b[49m\u001b[38;5;241;43m=\u001b[39;49m\u001b[43mencode_chunked\u001b[49m\u001b[43m)\u001b[49m\n",
      "File \u001b[1;32m~\\anaconda3\\lib\\http\\client.py:1280\u001b[0m, in \u001b[0;36mHTTPConnection.endheaders\u001b[1;34m(self, message_body, encode_chunked)\u001b[0m\n\u001b[0;32m   1279\u001b[0m     \u001b[38;5;28;01mraise\u001b[39;00m CannotSendHeader()\n\u001b[1;32m-> 1280\u001b[0m \u001b[38;5;28;43mself\u001b[39;49m\u001b[38;5;241;43m.\u001b[39;49m\u001b[43m_send_output\u001b[49m\u001b[43m(\u001b[49m\u001b[43mmessage_body\u001b[49m\u001b[43m,\u001b[49m\u001b[43m \u001b[49m\u001b[43mencode_chunked\u001b[49m\u001b[38;5;241;43m=\u001b[39;49m\u001b[43mencode_chunked\u001b[49m\u001b[43m)\u001b[49m\n",
      "File \u001b[1;32m~\\anaconda3\\lib\\http\\client.py:1040\u001b[0m, in \u001b[0;36mHTTPConnection._send_output\u001b[1;34m(self, message_body, encode_chunked)\u001b[0m\n\u001b[0;32m   1039\u001b[0m \u001b[38;5;28;01mdel\u001b[39;00m \u001b[38;5;28mself\u001b[39m\u001b[38;5;241m.\u001b[39m_buffer[:]\n\u001b[1;32m-> 1040\u001b[0m \u001b[38;5;28;43mself\u001b[39;49m\u001b[38;5;241;43m.\u001b[39;49m\u001b[43msend\u001b[49m\u001b[43m(\u001b[49m\u001b[43mmsg\u001b[49m\u001b[43m)\u001b[49m\n\u001b[0;32m   1042\u001b[0m \u001b[38;5;28;01mif\u001b[39;00m message_body \u001b[38;5;129;01mis\u001b[39;00m \u001b[38;5;129;01mnot\u001b[39;00m \u001b[38;5;28;01mNone\u001b[39;00m:\n\u001b[0;32m   1043\u001b[0m \n\u001b[0;32m   1044\u001b[0m     \u001b[38;5;66;03m# create a consistent interface to message_body\u001b[39;00m\n",
      "File \u001b[1;32m~\\anaconda3\\lib\\http\\client.py:980\u001b[0m, in \u001b[0;36mHTTPConnection.send\u001b[1;34m(self, data)\u001b[0m\n\u001b[0;32m    979\u001b[0m \u001b[38;5;28;01mif\u001b[39;00m \u001b[38;5;28mself\u001b[39m\u001b[38;5;241m.\u001b[39mauto_open:\n\u001b[1;32m--> 980\u001b[0m     \u001b[38;5;28;43mself\u001b[39;49m\u001b[38;5;241;43m.\u001b[39;49m\u001b[43mconnect\u001b[49m\u001b[43m(\u001b[49m\u001b[43m)\u001b[49m\n\u001b[0;32m    981\u001b[0m \u001b[38;5;28;01melse\u001b[39;00m:\n",
      "File \u001b[1;32m~\\anaconda3\\lib\\http\\client.py:1447\u001b[0m, in \u001b[0;36mHTTPSConnection.connect\u001b[1;34m(self)\u001b[0m\n\u001b[0;32m   1445\u001b[0m \u001b[38;5;124m\"\u001b[39m\u001b[38;5;124mConnect to a host on a given (SSL) port.\u001b[39m\u001b[38;5;124m\"\u001b[39m\n\u001b[1;32m-> 1447\u001b[0m \u001b[38;5;28;43msuper\u001b[39;49m\u001b[43m(\u001b[49m\u001b[43m)\u001b[49m\u001b[38;5;241;43m.\u001b[39;49m\u001b[43mconnect\u001b[49m\u001b[43m(\u001b[49m\u001b[43m)\u001b[49m\n\u001b[0;32m   1449\u001b[0m \u001b[38;5;28;01mif\u001b[39;00m \u001b[38;5;28mself\u001b[39m\u001b[38;5;241m.\u001b[39m_tunnel_host:\n",
      "File \u001b[1;32m~\\anaconda3\\lib\\http\\client.py:946\u001b[0m, in \u001b[0;36mHTTPConnection.connect\u001b[1;34m(self)\u001b[0m\n\u001b[0;32m    945\u001b[0m \u001b[38;5;250m\u001b[39m\u001b[38;5;124;03m\"\"\"Connect to the host and port specified in __init__.\"\"\"\u001b[39;00m\n\u001b[1;32m--> 946\u001b[0m \u001b[38;5;28mself\u001b[39m\u001b[38;5;241m.\u001b[39msock \u001b[38;5;241m=\u001b[39m \u001b[38;5;28;43mself\u001b[39;49m\u001b[38;5;241;43m.\u001b[39;49m\u001b[43m_create_connection\u001b[49m\u001b[43m(\u001b[49m\n\u001b[0;32m    947\u001b[0m \u001b[43m    \u001b[49m\u001b[43m(\u001b[49m\u001b[38;5;28;43mself\u001b[39;49m\u001b[38;5;241;43m.\u001b[39;49m\u001b[43mhost\u001b[49m\u001b[43m,\u001b[49m\u001b[38;5;28;43mself\u001b[39;49m\u001b[38;5;241;43m.\u001b[39;49m\u001b[43mport\u001b[49m\u001b[43m)\u001b[49m\u001b[43m,\u001b[49m\u001b[43m \u001b[49m\u001b[38;5;28;43mself\u001b[39;49m\u001b[38;5;241;43m.\u001b[39;49m\u001b[43mtimeout\u001b[49m\u001b[43m,\u001b[49m\u001b[43m \u001b[49m\u001b[38;5;28;43mself\u001b[39;49m\u001b[38;5;241;43m.\u001b[39;49m\u001b[43msource_address\u001b[49m\u001b[43m)\u001b[49m\n\u001b[0;32m    948\u001b[0m \u001b[38;5;66;03m# Might fail in OSs that don't implement TCP_NODELAY\u001b[39;00m\n",
      "File \u001b[1;32m~\\anaconda3\\lib\\socket.py:844\u001b[0m, in \u001b[0;36mcreate_connection\u001b[1;34m(address, timeout, source_address)\u001b[0m\n\u001b[0;32m    843\u001b[0m \u001b[38;5;28;01mtry\u001b[39;00m:\n\u001b[1;32m--> 844\u001b[0m     \u001b[38;5;28;01mraise\u001b[39;00m err\n\u001b[0;32m    845\u001b[0m \u001b[38;5;28;01mfinally\u001b[39;00m:\n\u001b[0;32m    846\u001b[0m     \u001b[38;5;66;03m# Break explicitly a reference cycle\u001b[39;00m\n",
      "File \u001b[1;32m~\\anaconda3\\lib\\socket.py:832\u001b[0m, in \u001b[0;36mcreate_connection\u001b[1;34m(address, timeout, source_address)\u001b[0m\n\u001b[0;32m    831\u001b[0m     sock\u001b[38;5;241m.\u001b[39mbind(source_address)\n\u001b[1;32m--> 832\u001b[0m \u001b[43msock\u001b[49m\u001b[38;5;241;43m.\u001b[39;49m\u001b[43mconnect\u001b[49m\u001b[43m(\u001b[49m\u001b[43msa\u001b[49m\u001b[43m)\u001b[49m\n\u001b[0;32m    833\u001b[0m \u001b[38;5;66;03m# Break explicitly a reference cycle\u001b[39;00m\n",
      "\u001b[1;31mConnectionRefusedError\u001b[0m: [WinError 10061] Nenhuma conexão pôde ser feita porque a máquina de destino as recusou ativamente",
      "\nDuring handling of the above exception, another exception occurred:\n",
      "\u001b[1;31mURLError\u001b[0m                                  Traceback (most recent call last)",
      "File \u001b[1;32m~\\anaconda3\\lib\\site-packages\\ucimlrepo\\fetch.py:68\u001b[0m, in \u001b[0;36mfetch_ucirepo\u001b[1;34m(name, id)\u001b[0m\n\u001b[0;32m     67\u001b[0m \u001b[38;5;28;01mtry\u001b[39;00m:\n\u001b[1;32m---> 68\u001b[0m     response \u001b[38;5;241m=\u001b[39m \u001b[43murllib\u001b[49m\u001b[38;5;241;43m.\u001b[39;49m\u001b[43mrequest\u001b[49m\u001b[38;5;241;43m.\u001b[39;49m\u001b[43murlopen\u001b[49m\u001b[43m(\u001b[49m\u001b[43mapi_url\u001b[49m\u001b[43m,\u001b[49m\u001b[43m \u001b[49m\u001b[43mcontext\u001b[49m\u001b[38;5;241;43m=\u001b[39;49m\u001b[43mssl\u001b[49m\u001b[38;5;241;43m.\u001b[39;49m\u001b[43mcreate_default_context\u001b[49m\u001b[43m(\u001b[49m\u001b[43mcafile\u001b[49m\u001b[38;5;241;43m=\u001b[39;49m\u001b[43mcertifi\u001b[49m\u001b[38;5;241;43m.\u001b[39;49m\u001b[43mwhere\u001b[49m\u001b[43m(\u001b[49m\u001b[43m)\u001b[49m\u001b[43m)\u001b[49m\u001b[43m)\u001b[49m\n\u001b[0;32m     69\u001b[0m     data \u001b[38;5;241m=\u001b[39m json\u001b[38;5;241m.\u001b[39mload(response)\n",
      "File \u001b[1;32m~\\anaconda3\\lib\\urllib\\request.py:214\u001b[0m, in \u001b[0;36murlopen\u001b[1;34m(url, data, timeout, cafile, capath, cadefault, context)\u001b[0m\n\u001b[0;32m    213\u001b[0m     opener \u001b[38;5;241m=\u001b[39m _opener\n\u001b[1;32m--> 214\u001b[0m \u001b[38;5;28;01mreturn\u001b[39;00m \u001b[43mopener\u001b[49m\u001b[38;5;241;43m.\u001b[39;49m\u001b[43mopen\u001b[49m\u001b[43m(\u001b[49m\u001b[43murl\u001b[49m\u001b[43m,\u001b[49m\u001b[43m \u001b[49m\u001b[43mdata\u001b[49m\u001b[43m,\u001b[49m\u001b[43m \u001b[49m\u001b[43mtimeout\u001b[49m\u001b[43m)\u001b[49m\n",
      "File \u001b[1;32m~\\anaconda3\\lib\\urllib\\request.py:517\u001b[0m, in \u001b[0;36mOpenerDirector.open\u001b[1;34m(self, fullurl, data, timeout)\u001b[0m\n\u001b[0;32m    516\u001b[0m sys\u001b[38;5;241m.\u001b[39maudit(\u001b[38;5;124m'\u001b[39m\u001b[38;5;124murllib.Request\u001b[39m\u001b[38;5;124m'\u001b[39m, req\u001b[38;5;241m.\u001b[39mfull_url, req\u001b[38;5;241m.\u001b[39mdata, req\u001b[38;5;241m.\u001b[39mheaders, req\u001b[38;5;241m.\u001b[39mget_method())\n\u001b[1;32m--> 517\u001b[0m response \u001b[38;5;241m=\u001b[39m \u001b[38;5;28;43mself\u001b[39;49m\u001b[38;5;241;43m.\u001b[39;49m\u001b[43m_open\u001b[49m\u001b[43m(\u001b[49m\u001b[43mreq\u001b[49m\u001b[43m,\u001b[49m\u001b[43m \u001b[49m\u001b[43mdata\u001b[49m\u001b[43m)\u001b[49m\n\u001b[0;32m    519\u001b[0m \u001b[38;5;66;03m# post-process response\u001b[39;00m\n",
      "File \u001b[1;32m~\\anaconda3\\lib\\urllib\\request.py:534\u001b[0m, in \u001b[0;36mOpenerDirector._open\u001b[1;34m(self, req, data)\u001b[0m\n\u001b[0;32m    533\u001b[0m protocol \u001b[38;5;241m=\u001b[39m req\u001b[38;5;241m.\u001b[39mtype\n\u001b[1;32m--> 534\u001b[0m result \u001b[38;5;241m=\u001b[39m \u001b[38;5;28;43mself\u001b[39;49m\u001b[38;5;241;43m.\u001b[39;49m\u001b[43m_call_chain\u001b[49m\u001b[43m(\u001b[49m\u001b[38;5;28;43mself\u001b[39;49m\u001b[38;5;241;43m.\u001b[39;49m\u001b[43mhandle_open\u001b[49m\u001b[43m,\u001b[49m\u001b[43m \u001b[49m\u001b[43mprotocol\u001b[49m\u001b[43m,\u001b[49m\u001b[43m \u001b[49m\u001b[43mprotocol\u001b[49m\u001b[43m \u001b[49m\u001b[38;5;241;43m+\u001b[39;49m\n\u001b[0;32m    535\u001b[0m \u001b[43m                          \u001b[49m\u001b[38;5;124;43m'\u001b[39;49m\u001b[38;5;124;43m_open\u001b[39;49m\u001b[38;5;124;43m'\u001b[39;49m\u001b[43m,\u001b[49m\u001b[43m \u001b[49m\u001b[43mreq\u001b[49m\u001b[43m)\u001b[49m\n\u001b[0;32m    536\u001b[0m \u001b[38;5;28;01mif\u001b[39;00m result:\n",
      "File \u001b[1;32m~\\anaconda3\\lib\\urllib\\request.py:494\u001b[0m, in \u001b[0;36mOpenerDirector._call_chain\u001b[1;34m(self, chain, kind, meth_name, *args)\u001b[0m\n\u001b[0;32m    493\u001b[0m func \u001b[38;5;241m=\u001b[39m \u001b[38;5;28mgetattr\u001b[39m(handler, meth_name)\n\u001b[1;32m--> 494\u001b[0m result \u001b[38;5;241m=\u001b[39m \u001b[43mfunc\u001b[49m\u001b[43m(\u001b[49m\u001b[38;5;241;43m*\u001b[39;49m\u001b[43margs\u001b[49m\u001b[43m)\u001b[49m\n\u001b[0;32m    495\u001b[0m \u001b[38;5;28;01mif\u001b[39;00m result \u001b[38;5;129;01mis\u001b[39;00m \u001b[38;5;129;01mnot\u001b[39;00m \u001b[38;5;28;01mNone\u001b[39;00m:\n",
      "File \u001b[1;32m~\\anaconda3\\lib\\urllib\\request.py:1389\u001b[0m, in \u001b[0;36mHTTPSHandler.https_open\u001b[1;34m(self, req)\u001b[0m\n\u001b[0;32m   1388\u001b[0m \u001b[38;5;28;01mdef\u001b[39;00m \u001b[38;5;21mhttps_open\u001b[39m(\u001b[38;5;28mself\u001b[39m, req):\n\u001b[1;32m-> 1389\u001b[0m     \u001b[38;5;28;01mreturn\u001b[39;00m \u001b[38;5;28;43mself\u001b[39;49m\u001b[38;5;241;43m.\u001b[39;49m\u001b[43mdo_open\u001b[49m\u001b[43m(\u001b[49m\u001b[43mhttp\u001b[49m\u001b[38;5;241;43m.\u001b[39;49m\u001b[43mclient\u001b[49m\u001b[38;5;241;43m.\u001b[39;49m\u001b[43mHTTPSConnection\u001b[49m\u001b[43m,\u001b[49m\u001b[43m \u001b[49m\u001b[43mreq\u001b[49m\u001b[43m,\u001b[49m\n\u001b[0;32m   1390\u001b[0m \u001b[43m        \u001b[49m\u001b[43mcontext\u001b[49m\u001b[38;5;241;43m=\u001b[39;49m\u001b[38;5;28;43mself\u001b[39;49m\u001b[38;5;241;43m.\u001b[39;49m\u001b[43m_context\u001b[49m\u001b[43m,\u001b[49m\u001b[43m \u001b[49m\u001b[43mcheck_hostname\u001b[49m\u001b[38;5;241;43m=\u001b[39;49m\u001b[38;5;28;43mself\u001b[39;49m\u001b[38;5;241;43m.\u001b[39;49m\u001b[43m_check_hostname\u001b[49m\u001b[43m)\u001b[49m\n",
      "File \u001b[1;32m~\\anaconda3\\lib\\urllib\\request.py:1349\u001b[0m, in \u001b[0;36mAbstractHTTPHandler.do_open\u001b[1;34m(self, http_class, req, **http_conn_args)\u001b[0m\n\u001b[0;32m   1348\u001b[0m \u001b[38;5;28;01mexcept\u001b[39;00m \u001b[38;5;167;01mOSError\u001b[39;00m \u001b[38;5;28;01mas\u001b[39;00m err: \u001b[38;5;66;03m# timeout error\u001b[39;00m\n\u001b[1;32m-> 1349\u001b[0m     \u001b[38;5;28;01mraise\u001b[39;00m URLError(err)\n\u001b[0;32m   1350\u001b[0m r \u001b[38;5;241m=\u001b[39m h\u001b[38;5;241m.\u001b[39mgetresponse()\n",
      "\u001b[1;31mURLError\u001b[0m: <urlopen error [WinError 10061] Nenhuma conexão pôde ser feita porque a máquina de destino as recusou ativamente>",
      "\nDuring handling of the above exception, another exception occurred:\n",
      "\u001b[1;31mConnectionError\u001b[0m                           Traceback (most recent call last)",
      "Cell \u001b[1;32mIn[2], line 1\u001b[0m\n\u001b[1;32m----> 1\u001b[0m wine_quality \u001b[38;5;241m=\u001b[39m \u001b[43mfetch_ucirepo\u001b[49m\u001b[43m(\u001b[49m\u001b[38;5;28;43mid\u001b[39;49m\u001b[38;5;241;43m=\u001b[39;49m\u001b[38;5;241;43m186\u001b[39;49m\u001b[43m)\u001b[49m \n\u001b[0;32m      3\u001b[0m \u001b[38;5;66;03m# data (as pandas dataframes) \u001b[39;00m\n\u001b[0;32m      4\u001b[0m X \u001b[38;5;241m=\u001b[39m wine_quality\u001b[38;5;241m.\u001b[39mdata\u001b[38;5;241m.\u001b[39mfeatures \n",
      "File \u001b[1;32m~\\anaconda3\\lib\\site-packages\\ucimlrepo\\fetch.py:71\u001b[0m, in \u001b[0;36mfetch_ucirepo\u001b[1;34m(name, id)\u001b[0m\n\u001b[0;32m     69\u001b[0m     data \u001b[38;5;241m=\u001b[39m json\u001b[38;5;241m.\u001b[39mload(response)\n\u001b[0;32m     70\u001b[0m \u001b[38;5;28;01mexcept\u001b[39;00m (urllib\u001b[38;5;241m.\u001b[39merror\u001b[38;5;241m.\u001b[39mURLError, urllib\u001b[38;5;241m.\u001b[39merror\u001b[38;5;241m.\u001b[39mHTTPError):\n\u001b[1;32m---> 71\u001b[0m     \u001b[38;5;28;01mraise\u001b[39;00m \u001b[38;5;167;01mConnectionError\u001b[39;00m(\u001b[38;5;124m'\u001b[39m\u001b[38;5;124mError connecting to server\u001b[39m\u001b[38;5;124m'\u001b[39m)\n\u001b[0;32m     73\u001b[0m \u001b[38;5;66;03m# verify that dataset exists \u001b[39;00m\n\u001b[0;32m     74\u001b[0m \u001b[38;5;28;01mif\u001b[39;00m data[\u001b[38;5;124m'\u001b[39m\u001b[38;5;124mstatus\u001b[39m\u001b[38;5;124m'\u001b[39m] \u001b[38;5;241m!=\u001b[39m \u001b[38;5;241m200\u001b[39m:\n",
      "\u001b[1;31mConnectionError\u001b[0m: Error connecting to server"
     ]
    }
   ],
   "source": [
    "wine_quality = fetch_ucirepo(id=186) \n",
    "  \n",
    "# data (as pandas dataframes) \n",
    "X = wine_quality.data.features \n",
    "y = wine_quality.data.targets "
   ]
  },
  {
   "cell_type": "code",
   "execution_count": null,
   "id": "32fa824f-b07d-4bb0-836c-0c5ef304c615",
   "metadata": {},
   "outputs": [],
   "source": [
    "# variable information \n",
    "print(wine_quality.variables) "
   ]
  },
  {
   "cell_type": "code",
   "execution_count": null,
   "id": "3568757c-96c4-4541-8e37-6e21ec3678bd",
   "metadata": {},
   "outputs": [],
   "source": [
    "df_wine = wine_quality.data.original"
   ]
  },
  {
   "cell_type": "code",
   "execution_count": null,
   "id": "f27475fb-d3a0-4a66-88da-a59b3bc5cce3",
   "metadata": {},
   "outputs": [],
   "source": [
    "df_wine.head()"
   ]
  },
  {
   "cell_type": "markdown",
   "id": "41fa062b-6393-4fe8-8164-4391828819c4",
   "metadata": {},
   "source": [
    "## 2.2 Checking for data quality"
   ]
  },
  {
   "cell_type": "code",
   "execution_count": null,
   "id": "2bdc5585-6ea4-4fd2-ae3d-383fa73477d2",
   "metadata": {},
   "outputs": [],
   "source": [
    "#Null values\n",
    "df_wine.isna().sum()"
   ]
  },
  {
   "cell_type": "code",
   "execution_count": null,
   "id": "cc4dd046-4212-49f8-8538-339f719ba618",
   "metadata": {},
   "outputs": [],
   "source": [
    "#Duplicated values\n",
    "duplicated = df_wine[df_wine.duplicated(keep = False)]\n",
    "print(duplicated.shape)"
   ]
  },
  {
   "cell_type": "code",
   "execution_count": null,
   "id": "833f73a6-13ae-4aeb-9fc1-46c0378df5bb",
   "metadata": {},
   "outputs": [],
   "source": [
    "duplicated.head(15)"
   ]
  },
  {
   "cell_type": "code",
   "execution_count": null,
   "id": "b344bc16-af6b-4e89-a283-16f6557c15f8",
   "metadata": {},
   "outputs": [],
   "source": [
    "df_wine_clean_all = df_wine.drop_duplicates(keep = 'first')\n",
    "print(df_wine_clean_all.shape)"
   ]
  },
  {
   "cell_type": "markdown",
   "id": "a78ede8f-bd7f-4080-b156-39fb6706247e",
   "metadata": {},
   "source": [
    "## Data Splitting for Training, Validation, and Testing\n",
    "\n",
    "To ensure that our model is trained and evaluated properly, it's crucial to split the dataset into three distinct subsets: **training**, **validation**, and **test**. This is important to prevent **data leakage**, which can occur if the model has access to the test data during the training process, leading to overly optimistic performance estimates.\n",
    "\n",
    "For our analysis, we will use the following split:\n",
    "- **70% of the data** for training the model\n",
    "- **20% of the data** for validating the model during training (to tune hyperparameters)\n",
    "- **10% of the data** for final testing, ensuring an unbiased evaluation of the model's performance after training.\n",
    "\n",
    "By keeping these datasets separate, we can avoid bias and ensure a more robust evaluation of the model's generalizability to new, unseen data."
   ]
  },
  {
   "cell_type": "code",
   "execution_count": null,
   "id": "71af974c-b0c0-4336-9570-73becc84330b",
   "metadata": {},
   "outputs": [],
   "source": [
    "# Separate the features (X) and target variable (y)\n",
    "X = df_wine_clean_all.drop('quality', axis=1)  # Assuming 'quality' is the target\n",
    "y = df_wine_clean_all['quality']\n",
    "\n",
    "# First, split the data into training (80%) and temporary data (20%)\n",
    "X_train, X_temp, y_train, y_temp = train_test_split(X, y, test_size=0.2, random_state=42)\n",
    "\n",
    "# Then, split the temporary data into validation (14%) and test (6.66%)\n",
    "X_valid, X_test, y_valid, y_test = train_test_split(X_temp, y_temp, test_size=1/3, random_state=42)\n",
    "\n",
    "# Display the sizes of the resulting sets\n",
    "print(f\"Training set size: {X_train.shape[0]}\")\n",
    "print(f\"Validation set size: {X_valid.shape[0]}\")\n",
    "print(f\"Test set size: {X_test.shape[0]}\")"
   ]
  },
  {
   "cell_type": "code",
   "execution_count": null,
   "id": "58b815f9-cfb1-4cc6-a86e-3214cb639f9d",
   "metadata": {},
   "outputs": [],
   "source": [
    "df_wine_clean = pd.concat([X_train.copy(), y_train], axis=1).reset_index(drop = True)"
   ]
  },
  {
   "cell_type": "code",
   "execution_count": null,
   "id": "352142e4-5a1f-43dd-b9bc-c308b3246390",
   "metadata": {},
   "outputs": [],
   "source": [
    "df_wine_clean.head()"
   ]
  },
  {
   "cell_type": "markdown",
   "id": "233fa639-561b-49fe-9d48-507596b457a4",
   "metadata": {},
   "source": [
    "## 2.3 Data distribution"
   ]
  },
  {
   "cell_type": "code",
   "execution_count": null,
   "id": "0ae4dfb7-fc14-4cd7-9aac-3a54352ebfc9",
   "metadata": {},
   "outputs": [],
   "source": [
    "df_wine_clean.describe()"
   ]
  },
  {
   "cell_type": "markdown",
   "id": "6f233f18-0772-4da4-83f6-89bc380dd743",
   "metadata": {},
   "source": [
    "In the next figure, we will check the data distribution and we will do a hypothesis test to see if the data is normally distributed with the Shapiri-Wilk test. The **Shapiro-Wilk test** is a statistical test used to assess whether a given sample comes from a normally distributed population. It is widely used for testing the normality of data, especially when dealing with small to moderate sample sizes.\n",
    "\n",
    "#### Hypotheses: \n",
    "  $$ H_0: \\text{The data is normally distributed} $$\n",
    "  $$ H_1: \\text{The data is not normally distributed} $$\n",
    "\n",
    "In this analysis, we will use the Shapiro-Wilk test to evaluate if any of our numerical variables follow a normal distribution. If the p-value is greater than 0.05, we will assume the distribution is normal; otherwise, we will assume the distribution deviates from\n"
   ]
  },
  {
   "cell_type": "code",
   "execution_count": null,
   "id": "08bb72f1-5541-4d10-8893-11d4c31c3ac9",
   "metadata": {},
   "outputs": [],
   "source": [
    "def plot_hist_box(df, col, style=\"darkgrid\"):\n",
    "    \"\"\"\n",
    "    Plots a histogram and a boxplot for a given column, sharing the x-axis, \n",
    "    and annotates the Shapiro-Wilk test result for normality.\n",
    "    \n",
    "    Parameters:\n",
    "        df (pd.DataFrame): DataFrame containing the data.\n",
    "        col (str): Column name for the histogram and boxplot.\n",
    "        style (str): Seaborn style (default: \"darkgrid\").\n",
    "    \"\"\"\n",
    "    # Set the plot style\n",
    "    sns.set_style(style)  \n",
    "    \n",
    "    # Perform the Shapiro-Wilk test for normality\n",
    "    stat, p_value = stats.shapiro(df[col])\n",
    "    normality_test_result = \"Normally Distributed\" if p_value > 0.05 else \"Not Normally Distributed\"\n",
    "    \n",
    "    # Calculate mean and median\n",
    "    mean_val = df[col].mean()\n",
    "    median_val = df[col].median()\n",
    "\n",
    "    # Create figure with two subplots\n",
    "    fig, axes = plt.subplots(2, 1, figsize=(8, 4), sharex=True, gridspec_kw={'height_ratios': [1, 5]})\n",
    "\n",
    "    # Boxplot with mean marker\n",
    "    sns.boxplot(data=df, x=col, ax=axes[0], orient=\"h\", showmeans=True,\n",
    "                meanprops={\"marker\": \"o\", \"markerfacecolor\": 'blue', \"markeredgecolor\": \"black\", \"markersize\": 7})\n",
    "\n",
    "    # Histogram with mean and median lines\n",
    "    sns.histplot(df[col], kde=True, ax=axes[1], color='skyblue')\n",
    "    axes[1].axvline(mean_val, color='red', linestyle=\"--\", linewidth=2, label=\"Mean\")\n",
    "    axes[1].axvline(median_val, color='green', linestyle=\"-.\", linewidth=2, label=\"Median\")\n",
    "\n",
    "    # Annotate the Shapiro-Wilk test result\n",
    "    axes[1].annotate(f\"Shapiro-Wilk p-value: {p_value:.3e}\\n{normality_test_result}\",\n",
    "                     xy=(0.7, 0.85), xycoords=\"axes fraction\", fontsize=12, color=\"black\", weight=\"bold\", \n",
    "                     horizontalalignment='center', verticalalignment='center')\n",
    "\n",
    "    # General title\n",
    "    fig.suptitle(f\"Distribution of {col}\", fontsize=14, fontweight=\"bold\")\n",
    "\n",
    "    # Shared legend with colors matching the plot\n",
    "    handles = [\n",
    "        plt.Line2D([0], [0], color='red', linestyle=\"--\", linewidth=2, label=\"Mean\"),\n",
    "        plt.Line2D([0], [0], color='green', linestyle=\"-.\", linewidth=2, label=\"Median\")\n",
    "    ]\n",
    "    fig.legend(handles=handles, loc=\"upper right\", fontsize=10)\n",
    "\n",
    "    # Adjust layout\n",
    "    plt.tight_layout()\n",
    "    plt.show()"
   ]
  },
  {
   "cell_type": "code",
   "execution_count": null,
   "id": "0f53f367-8392-40be-8dab-40f101750a48",
   "metadata": {},
   "outputs": [],
   "source": [
    "for col in df_wine_clean.select_dtypes(include=['number']).columns:\n",
    "    plot_hist_box(df_wine, col)"
   ]
  },
  {
   "cell_type": "code",
   "execution_count": null,
   "id": "f3a8a1d8-a5eb-47f1-9ae3-2f9da0378fdd",
   "metadata": {},
   "outputs": [],
   "source": [
    "#sns.set_style('darkgrid')\n",
    "\n",
    "# Get value counts\n",
    "counts = df_wine_clean['color'].value_counts()\n",
    "\n",
    "# Get Seaborn colors\n",
    "colors = sns.color_palette(\"pastel\", len(counts))\n",
    "\n",
    "# Create pie chart\n",
    "fig, ax = plt.subplots(figsize=(6, 6))\n",
    "ax.pie(counts, labels=counts.index, autopct=\"%1.1f%%\", colors=colors, startangle=90, wedgeprops={\"edgecolor\": \"black\"})\n",
    "\n",
    "# Title\n",
    "plt.title(f\"Distribution of Wine Color\", fontsize=14, fontweight=\"bold\")\n",
    "\n",
    "plt.show()"
   ]
  },
  {
   "cell_type": "code",
   "execution_count": null,
   "id": "2f0744e9-4914-4bd6-8787-c59e4c0aa875",
   "metadata": {},
   "outputs": [],
   "source": [
    "fig, ax = plt.subplots(figsize=(8, 5))\n",
    "sns.histplot(data=df_wine_clean, x='quality', hue='color', kde=True, stat=\"percent\", discrete=True, \n",
    "             common_norm=False, multiple=\"layer\", palette=\"pastel\", ax=ax)\n",
    "\n",
    "# Labels and title\n",
    "ax.set_xlabel(\"Wine Quality\", fontsize=12, fontweight=\"bold\")\n",
    "ax.set_ylabel(\"Proportion Density\", fontsize=12, fontweight=\"bold\")\n",
    "ax.set_title(\"Wine Quality Distribution by Color\", fontsize=14, fontweight=\"bold\")\n",
    "plt.show()"
   ]
  },
  {
   "cell_type": "code",
   "execution_count": null,
   "id": "f6e68e41-de0a-420a-ab4f-1f79782fc069",
   "metadata": {},
   "outputs": [],
   "source": [
    "df_wine_clean[['quality','color']].groupby(['quality','color']).size().reset_index()"
   ]
  },
  {
   "cell_type": "markdown",
   "id": "2ecfd97e-98d9-441b-8459-800f3e9fa15f",
   "metadata": {},
   "source": [
    "## 2.4 Outliers"
   ]
  },
  {
   "cell_type": "code",
   "execution_count": null,
   "id": "2af7c178-4a49-4fad-8e1b-a7cccd1dd033",
   "metadata": {},
   "outputs": [],
   "source": [
    "# Lets reset the index\n",
    "df_wine_clean.reset_index(inplace = True, drop = True) "
   ]
  },
  {
   "cell_type": "code",
   "execution_count": null,
   "id": "3182a19c-1e01-4e5a-9cac-bcf20e1583b9",
   "metadata": {},
   "outputs": [],
   "source": [
    "def index_outliers(df, column):\n",
    "    q1 = df[column].quantile(0.25)\n",
    "    q3 = df[column].quantile(0.75)\n",
    "    iqr = q3 - q1\n",
    "    lower_bound = q1 - 1.5 * iqr\n",
    "    upper_bound = q3 + 1.5 * iqr\n",
    "    \n",
    "    outlier_index = df[(df[column]< lower_bound) | (df[column]> upper_bound)].index\n",
    "    print(f\"Number of outliers for column {column}: {len(outlier_index)} ({len(outlier_index)/len(df)*100:.2f}%)\")\n",
    "\n",
    "    # Create the cumulative histplot\n",
    "    plt.figure(figsize=(10, 6))\n",
    "    sns.histplot(df[column], kde=False, cumulative=True, color='skyblue', stat=\"density\", bins=30)\n",
    "    \n",
    "    # Add horizontal lines for the 95% and 99% percentiles\n",
    "    percentile_95 = df[column].quantile(0.95)\n",
    "    percentile_99 = df[column].quantile(0.99)\n",
    "    plt.axvline(percentile_95, color='green', linestyle='--', label=f'95% percentile ({percentile_95:.2f})')\n",
    "    plt.axvline(percentile_99, color='red', linestyle='--', label=f'99% percentile ({percentile_99:.2f})')\n",
    "    \n",
    "    # Add lines for the outlier bounds\n",
    "    plt.axvline(lower_bound, color='orange', linestyle='--', label=f'Lower bound ({lower_bound:.2f})')\n",
    "    plt.axvline(upper_bound, color='orange', linestyle='--', label=f'Upper bound ({upper_bound:.2f})')\n",
    "\n",
    "    # Labels and title\n",
    "    plt.title(f'Cumulative Histogram of {column} with Outlier Bounds')\n",
    "    plt.xlabel(column)\n",
    "    plt.ylabel('Cumulative Density')\n",
    "    \n",
    "    # Add legend\n",
    "    plt.legend()\n",
    "    \n",
    "    # Show plot\n",
    "    plt.show()\n",
    "    \n",
    "    return outlier_index"
   ]
  },
  {
   "cell_type": "code",
   "execution_count": null,
   "id": "7e0e91b9-cc5c-417a-96aa-dc60b2e866a4",
   "metadata": {},
   "outputs": [],
   "source": [
    "outliers_index = {}\n",
    "for col in df_wine_clean.select_dtypes(include=['number']).columns:\n",
    "    outliers_index[col] = index_outliers(df_wine_clean, col)"
   ]
  },
  {
   "cell_type": "markdown",
   "id": "b74086b4-51f1-44da-a76f-600014e08bb8",
   "metadata": {},
   "source": [
    "### **Highlights:**  \n",
    "- The vast majority of wines have a quality rating between **5 and 7**.  \n",
    "- **White wines** tend to have **higher quality ratings** compared to red wines.  \n",
    "- The dataset consists of **75% white wines and 25% red wines**.  \n",
    "- Very few wines have **extremely high or extremely low quality ratings**.  \n",
    "- **Boxplots and cumulative histograms suggest the presence of outliers** in many variables, though the values do not seem unreasonable. **We need to evaluate the impact on the model performance later**\n",
    "- The dataset originally contained **2,139 duplicate rows**, which were removed.  \n",
    "- **No missing values** were found.  \n",
    "\n",
    "### **Next Steps:**    \n",
    "- Investigate how the wine color impacts other variables. Is it worth separating?  \n",
    "- Analyze the relationships between variables (bivariate analysis).  \n",
    "- Identify which variables have the strongest correlation with the target."
   ]
  },
  {
   "cell_type": "markdown",
   "id": "9d0454cb-021a-4ef9-aca9-6cfc0e1a3712",
   "metadata": {},
   "source": [
    "# 3 - Exploratory data analysis"
   ]
  },
  {
   "cell_type": "code",
   "execution_count": null,
   "id": "5ab5f6ff-2782-4c78-a1b3-749086de0b16",
   "metadata": {},
   "outputs": [],
   "source": [
    "# Create quality category\n",
    "\n",
    "df_wine_clean['quality_categorical'] = df_wine_clean['quality'].apply(lambda x: 'Good' if x>=7 else ('Medium' if x>=5 else 'Bad'))\n",
    "\n",
    "\n",
    "quality_order = [\"Bad\", \"Medium\", \"Good\"]\n",
    "\n",
    "# Convert to an ordered categorical variable\n",
    "df_wine_clean[\"quality_categorical\"] = pd.Categorical(\n",
    "    df_wine_clean[\"quality_categorical\"], \n",
    "    categories=quality_order, \n",
    "    ordered=True\n",
    ")"
   ]
  },
  {
   "cell_type": "code",
   "execution_count": null,
   "id": "4c1d2fea-f4a7-43d8-8be5-98433eadd89e",
   "metadata": {},
   "outputs": [],
   "source": [
    "numerical_columns = df_wine_clean.select_dtypes(include=['number']).columns\n",
    "categorical_columns = df_wine_clean.select_dtypes(exclude=['number']).columns"
   ]
  },
  {
   "cell_type": "code",
   "execution_count": null,
   "id": "42f7cee9-2d65-49b3-9719-04a3fe038d65",
   "metadata": {},
   "outputs": [],
   "source": [
    "df_wine_clean['quality_categorical'].value_counts()"
   ]
  },
  {
   "cell_type": "markdown",
   "id": "dc2c4601-2c0d-432f-92fb-834aa7cad107",
   "metadata": {},
   "source": [
    "## 3.1 - Color of wine"
   ]
  },
  {
   "cell_type": "markdown",
   "id": "dacb6150-b67f-4818-af9b-1294e83e1a88",
   "metadata": {},
   "source": [
    "### 3.1.2 - Wine color impacts on quality categorical"
   ]
  },
  {
   "cell_type": "code",
   "execution_count": null,
   "id": "c37a0f53-85e7-4064-9196-705ffc22523d",
   "metadata": {},
   "outputs": [],
   "source": [
    "# Define the order for wine quality categories\n",
    "quality_order = ['Good', 'Medium', 'Bad']\n",
    "\n",
    "plt.figure(figsize=(10, 6))\n",
    "ax = sns.histplot(data=df_wine_clean, x='color', hue='quality_categorical', multiple='stack', discrete=True, \n",
    "                  hue_order=quality_order, shrink=0.8)\n",
    "\n",
    "# Add title and labels\n",
    "plt.title('Wine Quality Distribution by Wine Color', fontsize=14)\n",
    "plt.xlabel('Wine Color', fontsize=12)\n",
    "plt.ylabel('Count', fontsize=12)\n",
    "\n",
    "# Hide y-axis labels\n",
    "ax.set_yticklabels([])\n",
    "\n",
    "# Dictionary to store cumulative heights per category per x-value\n",
    "cumulative_heights = {}\n",
    "\n",
    "# Iterate through patches to annotate percentages\n",
    "for patch in ax.patches:\n",
    "    height = patch.get_height()\n",
    "    if height > 0:\n",
    "        # Get the x-value (wine color)\n",
    "        x_value = patch.get_x() + patch.get_width() / 2.\n",
    "        \n",
    "        # Get the current cumulative height for this x_value\n",
    "        bottom_height = cumulative_heights.get(x_value, 0)\n",
    "        \n",
    "        # Compute the middle height for annotation\n",
    "        middle_height = bottom_height + height / 2.\n",
    "        \n",
    "        # Calculate total count for this x_value (to get the percentage)\n",
    "        total = sum([p.get_height() for p in ax.patches if p.get_x() + p.get_width() / 2. == x_value])\n",
    "        percentage = (height / total) * 100\n",
    "        \n",
    "        # Annotate inside the correct bar section\n",
    "        ax.annotate(f'{percentage:.1f}%', \n",
    "                    (x_value, middle_height), \n",
    "                    ha='center', va='center', fontsize=10, color='black', weight='bold')\n",
    "        \n",
    "        # Update cumulative height for this x_value\n",
    "        cumulative_heights[x_value] = bottom_height + height\n",
    "\n",
    "# Show the plot with adjusted layout\n",
    "plt.tight_layout()\n",
    "plt.show()"
   ]
  },
  {
   "cell_type": "code",
   "execution_count": null,
   "id": "7ac8d427-386b-4a7f-9d8e-8e31ec7aa630",
   "metadata": {},
   "outputs": [],
   "source": [
    "#Evaluate chi-square value\n",
    "contingency_table = pd.crosstab(df_wine_clean['color'], df_wine_clean['quality_categorical'])\n",
    "\n",
    "# Perform chi-square test\n",
    "chi2, p, dof, expected = stats.chi2_contingency(contingency_table)\n",
    "\n",
    "print(f\"Chi-Square Statistic: {chi2:.4f}\")\n",
    "print(f\"P-value: {p:.3e}\")\n",
    "\n",
    "# Interpret results\n",
    "alpha = 0.05  # Significance level\n",
    "if p < alpha:\n",
    "    print(\"There is a significant difference in wine quality distribution between red and white wines.\")\n",
    "else:\n",
    "    print(\"No significant difference in wine quality distribution between red and white wines.\")"
   ]
  },
  {
   "cell_type": "markdown",
   "id": "ede8474b-5457-4d69-9f7e-9fdbf9ab3bee",
   "metadata": {},
   "source": [
    "### 3.1.2 - Wine Color Impacts on Numerical Columns  \n",
    "\n",
    "In this section, we analyze how wine color (red or white) influences the distribution of numerical variables. Since red and white wines are produced using different grape varieties and fermentation processes, we expect significant differences across various attributes.  \n",
    "\n",
    "To statistically evaluate these differences, we perform a **t-test for independent samples**, assuming unequal variance. The hypotheses tested are:  \n",
    "\n",
    "> **$H_0: \\ \\mu_1 - \\mu_2 = 0$: There is no difference in means between red and white wines**  \n",
    "> **$H_1: \\ \\mu_1 - \\mu_2 \\neq 0$ The means of red and white wines are significantly different**  \n",
    "\n",
    "In the following plots, we visualize the distributions of numerical variables by wine color using boxplots. Additionally, we annotate each plot with the **p-value** from the t-test to highlight the statistical significance of the observed differences.  "
   ]
  },
  {
   "cell_type": "code",
   "execution_count": null,
   "id": "39efe85f-ad82-4f00-8a99-b36d01e99036",
   "metadata": {},
   "outputs": [],
   "source": [
    "fig, axes = plt.subplots(nrows=(len(numerical_columns) + 1) // 2, ncols=2, figsize=(14, len(numerical_columns)*2))\n",
    "axes = axes.flatten()  # Flatten to make it easier to iterate over axes\n",
    "\n",
    "# Loop through the columns to plot each boxplot\n",
    "for i, col in enumerate(numerical_columns):\n",
    "    # Create the boxplot\n",
    "    sns.boxplot(data=df_wine_clean, x='color', y=col, ax=axes[i], orient=\"v\", showmeans=True,\n",
    "                meanprops={\"marker\": \"o\", \"markerfacecolor\": palette[3], \"markeredgecolor\": \"black\", \"markersize\": 7})\n",
    "    \n",
    "    # Perform the t-test for the two categories of wine (assuming 'color' is the column with wine types)\n",
    "    group1 = df_wine_clean[df_wine_clean['color'] == 'red'][col]\n",
    "    group2 = df_wine_clean[df_wine_clean['color'] == 'white'][col]\n",
    "    \n",
    "    t_stat, p_value = ttest_ind(group1, group2, equal_var = False, alternative = 'two-sided')\n",
    "    \n",
    "    # Add annotation with t-statistic and p-value\n",
    "    axes[i].annotate(f\"T-statistic: {t_stat:.2f}\\nP-value: {p_value:.3e}\", \n",
    "                     xy=(0.5, 0.9), xycoords='axes fraction', ha='center', va='top', \n",
    "                     fontsize=10, bbox=dict(boxstyle=\"round,pad=0.3\", facecolor='white', edgecolor='black', linewidth=1))\n",
    "\n",
    "    # Set title and labels\n",
    "    axes[i].set_title(f'{col}', fontsize=14)\n",
    "    axes[i].set_xlabel('')\n",
    "    axes[i].set_ylabel(col, fontsize=12)\n",
    "\n",
    "# Remove empty subplots if the number of variables is odd\n",
    "for j in range(i + 1, len(axes)):\n",
    "    axes[j].axis('off')\n",
    "\n",
    "# Adjust layout for better spacing\n",
    "plt.tight_layout()\n",
    "plt.show()"
   ]
  },
  {
   "cell_type": "markdown",
   "id": "af184881-236d-4ef0-9682-92d9836ea04e",
   "metadata": {},
   "source": [
    "- All metrics showed a significant difference between white and red wines, which is natural given that they use different grapes and processes.  \n",
    "- We used the t-test for evaluation, considering variance differences (due to the wine color distinction) and a two-tailed test.  \n",
    "- Color appears to be a distinguishing characteristic.  \n"
   ]
  },
  {
   "cell_type": "markdown",
   "id": "0aa1e5d3-3d7a-418e-8508-622937c56b2d",
   "metadata": {},
   "source": [
    "## 3.2 Wine quality separability"
   ]
  },
  {
   "cell_type": "code",
   "execution_count": null,
   "id": "0372c487-3677-43d1-ab97-8cbfeec01a61",
   "metadata": {},
   "outputs": [],
   "source": [
    "# Compute correlation matrix\n",
    "corr_matrix = df_wine_clean[numerical_columns].corr()\n",
    "\n",
    "# Mask the upper triangle\n",
    "mask = np.triu(np.ones_like(corr_matrix, dtype=bool))\n",
    "\n",
    "# Create the heatmap\n",
    "plt.figure(figsize=(12, 8))\n",
    "sns.heatmap(\n",
    "    corr_matrix, \n",
    "    mask=mask,   # Apply mask\n",
    "    annot=True,  # Show correlation values\n",
    "    fmt=\".2f\",   # Two decimal places\n",
    "    cmap=\"coolwarm\", \n",
    "    linewidths=0.5, \n",
    "    cbar=True\n",
    ")\n",
    "\n",
    "# Title\n",
    "plt.title(\"Correlation Heatmap of Numerical Features\", fontsize=14)\n",
    "plt.show()"
   ]
  },
  {
   "cell_type": "code",
   "execution_count": null,
   "id": "65844ce0-e84c-4455-9561-d3064f5999d5",
   "metadata": {},
   "outputs": [],
   "source": [
    "g = sns.pairplot(data=df_wine_clean.drop('quality', axis=1), hue='quality_categorical')\n",
    "\n",
    "plt.show()"
   ]
  },
  {
   "cell_type": "code",
   "execution_count": null,
   "id": "a3c8f1ce-70c5-43a3-8043-ab948d2a8a34",
   "metadata": {},
   "outputs": [],
   "source": [
    "n_cols = 2\n",
    "n_rows = int(np.ceil(len(numerical_columns) / n_cols))\n",
    "\n",
    "# Create subplots\n",
    "fig, axes = plt.subplots(n_rows, n_cols, figsize=(15, n_rows * 4), sharex=True)\n",
    "axes = axes.flatten()  # Flatten for easier indexing\n",
    "\n",
    "# Loop through numerical columns and plot each\n",
    "for i, col in enumerate(numerical_columns):\n",
    "    sns.boxplot(\n",
    "        data=df_wine_clean, \n",
    "        y=col, \n",
    "        x=\"quality_categorical\", \n",
    "        ax=axes[i], \n",
    "        orient=\"v\",  # Vertical orientation\n",
    "        showmeans=True,\n",
    "        meanprops={\"marker\": \"o\", \"markerfacecolor\": palette[3], \"markeredgecolor\": \"black\", \"markersize\": 7}\n",
    "    )\n",
    "    axes[i].set_title(f\"{col}\", fontsize=14)\n",
    "    axes[i].set_ylabel(col, fontsize = 14)\n",
    "    axes[i].set_xlabel(\"\", fontsize = 14)\n",
    "    \n",
    "\n",
    "    # Apply global X-axis limits\n",
    "\n",
    "# Hide empty subplots (if any)\n",
    "for j in range(i + 1, len(axes)):\n",
    "    fig.delaxes(axes[j])\n",
    "\n",
    "# Adjust layout\n",
    "plt.tight_layout()\n",
    "plt.show()"
   ]
  },
  {
   "cell_type": "markdown",
   "id": "147bff75-eaa5-4384-97ba-b8acb510e998",
   "metadata": {},
   "source": [
    "### Hypothesis Testing for Quality categorical effects using Kruskal-Wallis Test\n",
    "\n",
    "Since the data is not normally distributed (from previous analysis), we'll use the **Kruskal-Wallis Test**, which is a non-parametric test that compares the medians of three or more independent groups. It does not assume a normal distribution and is appropriate for ordinal categorical variables like \"Bad\", \"Medium\", and \"Good\" in this case.\n",
    "\n",
    "#### Formulation of Hypothesis:\n",
    "\n",
    "Let’s consider the variable **X** as a numerical feature (e.g., alcohol content, pH, etc.) and **Y** as the ordinal categorical variable (with levels \"Bad\", \"Medium\", and \"Good\"). The hypothesis for this test are:\n",
    "\n",
    "> $H_0: \\mu_1 = \\mu_2 = \\mu_3$\n",
    "\n",
    "> $H_1: \\text{At least one of the medians is different}$"
   ]
  },
  {
   "cell_type": "code",
   "execution_count": null,
   "id": "bde0c6e7-c88f-401a-8ebd-c9a755b236c6",
   "metadata": {},
   "outputs": [],
   "source": [
    "for col in numerical_columns:\n",
    "    print(f\"Testing column: {col}\")\n",
    "    \n",
    "    # Group data by quality_categorical and collect the corresponding column values\n",
    "    groups = [df_wine_clean[df_wine_clean['quality_categorical'] == quality][col] \n",
    "              for quality in df_wine_clean['quality_categorical'].unique()]\n",
    "    \n",
    "    # Perform Kruskal-Wallis Test\n",
    "    stat, p_value = kruskal(*groups)\n",
    "    \n",
    "    # Print the result\n",
    "    print(f\"Kruskal-Wallis test statistic: {stat:.3e}\")\n",
    "    print(f\"P-value: {p_value:.3e}\")\n",
    "    \n",
    "    # Determine significance\n",
    "    if p_value < 0.05:\n",
    "        print(\"The difference is statistically significant.\")\n",
    "    else:\n",
    "        print(\"No statistically significant difference.\")\n",
    "    print(\"-\" * 50)"
   ]
  },
  {
   "cell_type": "markdown",
   "id": "1e78ed52-f964-47c1-89c8-922c5542cfb3",
   "metadata": {},
   "source": [
    "### Post-Hoc Test to Determine Which Groups Differ\n",
    "\n",
    "After performing the Kruskal-Wallis test and finding significant differences in the medians across the groups, we proceed with a **Post-Hoc Test** to identify which specific pairs of groups are different. To achieve this, we use **Dunn's Test** with a **Bonferroni correction** to account for multiple comparisons.\n",
    "\n",
    "#### Dunn's Test:\n",
    "\n",
    "- Dunn's test is a non-parametric test that compares all pairs of groups. Since the Kruskal-Wallis test indicated significant differences, Dunn's test helps pinpoint which specific pairs of groups (e.g., \"Bad\" vs. \"Medium\", \"Medium\" vs. \"Good\", etc.) have statistically significant differences in their distributions.\n",
    "\n",
    "#### Bonferroni Correction:\n",
    "\n",
    "- As we are making multiple comparisons, a **Bonferroni correction** is applied to control for Type I errors. This is done by adjusting the significance level (0.05) based on the number of comparisons made."
   ]
  },
  {
   "cell_type": "code",
   "execution_count": null,
   "id": "983b714d-6e9c-4f3c-87e8-171d68771cd0",
   "metadata": {},
   "outputs": [],
   "source": [
    "def dunn_test(data, groups):\n",
    "    \"\"\"\n",
    "    Perform Dunn's test for pairwise comparisons of groups\n",
    "    with a Bonferroni correction for multiple testing.\n",
    "    \n",
    "    Args:\n",
    "        data: List of arrays for each group (e.g., values for \"Bad\", \"Medium\", \"Good\")\n",
    "        groups: List of group names (e.g., ['Bad', 'Medium', 'Good'])\n",
    "    \n",
    "    Returns:\n",
    "        adjusted_p_values: List of tuples (group1, group2, adjusted p-value)\n",
    "    \"\"\"\n",
    "    p_values = []\n",
    "    # Loop over all unique pairs of groups\n",
    "    for i, group1 in enumerate(groups):\n",
    "        for j, group2 in enumerate(groups):\n",
    "            if i < j:\n",
    "                group1_data = np.array(data[i])\n",
    "                group2_data = np.array(data[j])\n",
    "                n1 = len(group1_data)\n",
    "                n2 = len(group2_data)\n",
    "                \n",
    "                # Combine the data from both groups and compute ranks\n",
    "                combined_data = np.concatenate([group1_data, group2_data])\n",
    "                ranks = rankdata(combined_data)\n",
    "                \n",
    "                # Calculate average ranks for each group\n",
    "                avg_rank1 = np.mean(ranks[:n1])\n",
    "                avg_rank2 = np.mean(ranks[n1:])\n",
    "                \n",
    "                # Total number of observations in both groups\n",
    "                N = n1 + n2\n",
    "                # Standard error calculation\n",
    "                SE = np.sqrt((N * (N + 1) / 12) * (1/n1 + 1/n2))\n",
    "                \n",
    "                # Compute the z-statistic\n",
    "                z = (avg_rank1 - avg_rank2) / SE\n",
    "                \n",
    "                # Calculate the two-tailed p-value\n",
    "                p_value = 2 * (1 - norm.cdf(np.abs(z)))\n",
    "                p_values.append((groups[i], groups[j], p_value))\n",
    "    \n",
    "    # Apply Bonferroni correction\n",
    "    n_tests = len(p_values)\n",
    "    adjusted_p_values = [(g1, g2, min(p * n_tests, 1.0)) for g1, g2, p in p_values]\n",
    "    return adjusted_p_values"
   ]
  },
  {
   "cell_type": "code",
   "execution_count": null,
   "id": "9bdacf49-492b-49f8-a8e5-d6b8b3af0f5b",
   "metadata": {},
   "outputs": [],
   "source": [
    "for col in numerical_columns:\n",
    "    print(f\"Post-hoc pairwise comparisons for {col}:\")\n",
    "    \n",
    "    # Group data by quality_categorical for the current column\n",
    "    groups_data = [df_wine_clean[df_wine_clean['quality_categorical'] == quality][col].values \n",
    "                   for quality in ['Bad', 'Medium', 'Good']]\n",
    "    \n",
    "    # Perform Dunn's test\n",
    "    results = dunn_test(groups_data, ['Bad', 'Medium', 'Good'])\n",
    "    \n",
    "    # Print results in scientific notation\n",
    "    for group1, group2, p_value in results:\n",
    "        print(f\"Comparison: {group1} vs {group2}, p-value: {p_value:.3e}\")\n",
    "        if p_value < 0.05:\n",
    "            print(f\"  Significant difference between {group1} and {group2}\")\n",
    "        else:\n",
    "            print(f\"  No significant difference between {group1} and {group2}\")\n",
    "    print(\"-\" * 50)"
   ]
  },
  {
   "cell_type": "markdown",
   "id": "96424860-92a5-4c81-89fb-5440db68295b",
   "metadata": {},
   "source": [
    "## Section Highlights:\n",
    "\n",
    "- The correlation values with the quality variable are low, suggesting that a linear regression model may not be the most suitable.\n",
    "- The separation into 3 categories (Bad, Medium, Good) for the wines shows some distinction in the data, as seen in the pairwise scatterplots. However, it is important to note that the number of wines in the \"Medium\" category was much higher than in the other categories.\n",
    "- A significant difference in the means of features across the 3 categories was observed through the Kruskal-Wallis test, with statistical significance at the 5% level.\n",
    "- The variables pH and sulfates had the highest p-values (around 3%).\n",
    "- The Dunn test, applied to each feature, indicated that in the majority of cases, there was a statistically significant difference between the 3 classes.\n",
    "- All available features will be used for model development.\n",
    "\n",
    "**Next steps:**\n",
    "- Evaluate the impact of the 3 categories in a classification model versus a regression model.\n",
    "- Analyze the impact of outliers on model performance.\n",
    "- Train several models to compare their performances.\n",
    "- Perform hyperparameter tuning on the models.\n",
    "- Evaluate the final model on the test set."
   ]
  },
  {
   "cell_type": "code",
   "execution_count": null,
   "id": "4461d39a-f55f-46ee-9eea-033fbe88591d",
   "metadata": {},
   "outputs": [],
   "source": [
    "# Save the data for modelling:\n",
    "import os\n",
    "\n",
    "# Define file paths\n",
    "train_path = os.path.join('..', 'data', 'train.csv')\n",
    "valid_path = os.path.join('..', 'data', 'validation.csv')\n",
    "test_path = os.path.join('..', 'data', 'test.csv')\n",
    "\n",
    "# Save the datasets as CSV files\n",
    "pd.concat([X_train, y_train], axis = 1).to_csv(train_path, index=False)\n",
    "pd.concat([X_valid, y_valid], axis = 1).to_csv(valid_path, index=False)\n",
    "pd.concat([X_test, y_test], axis = 1).to_csv(test_path, index=False)"
   ]
  }
 ],
 "metadata": {
  "kernelspec": {
   "display_name": "Python 3 (ipykernel)",
   "language": "python",
   "name": "python3"
  },
  "language_info": {
   "codemirror_mode": {
    "name": "ipython",
    "version": 3
   },
   "file_extension": ".py",
   "mimetype": "text/x-python",
   "name": "python",
   "nbconvert_exporter": "python",
   "pygments_lexer": "ipython3",
   "version": "3.9.19"
  }
 },
 "nbformat": 4,
 "nbformat_minor": 5
}
